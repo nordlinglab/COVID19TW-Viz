{
 "cells": [
  {
   "cell_type": "code",
   "execution_count": null,
   "id": "3be93017",
   "metadata": {},
   "outputs": [],
   "source": [
    "import datetime\n",
    "import powerlaw\n",
    "import numpy as np\n",
    "import pandas as pd\n",
    "import seaborn as sns\n",
    "import networkx as nx\n",
    "import matplotlib.pyplot as plt\n",
    "from countryinfo import CountryInfo\n",
    "from rw_data_processing import *\n",
    "plt.style.use(r\"./rw_visualization.mplstyle\")"
   ]
  },
  {
   "cell_type": "code",
   "execution_count": null,
   "id": "f52644fb",
   "metadata": {},
   "outputs": [],
   "source": [
    "# import warnings filter\n",
    "from warnings import simplefilter\n",
    "# ignore all future warnings\n",
    "simplefilter(action='ignore', category=FutureWarning)\n",
    "\n",
    "# Color\n",
    "current_palette = sns.color_palette()\n",
    "current_palette"
   ]
  },
  {
   "attachments": {},
   "cell_type": "markdown",
   "id": "c920c073",
   "metadata": {},
   "source": [
    "# 1. Load Taiwan data and data processing"
   ]
  },
  {
   "cell_type": "code",
   "execution_count": null,
   "id": "6dea9d8c",
   "metadata": {},
   "outputs": [],
   "source": [
    "# Load data\n",
    "Taiwan_data_sheet = pd.read_excel('covidtable_taiwan_translated.xlsx', sheet_name=0)\n",
    "Taiwan_data_sheet.columns = Taiwan_data_sheet.columns.str.strip().str.lower().str.\\\n",
    "    replace(' ', '_').str.replace('(', '').str.replace(')', '')\n",
    "\n",
    "# Clean data\n",
    "data_1_to_579 = clean_taiwan_data(Taiwan_data_sheet, 1, 579)"
   ]
  },
  {
   "attachments": {},
   "cell_type": "markdown",
   "id": "b826f47e",
   "metadata": {},
   "source": [
    "# 2. Extract contact information and construct the contact network\n"
   ]
  },
  {
   "cell_type": "code",
   "execution_count": null,
   "id": "560b7e78",
   "metadata": {},
   "outputs": [],
   "source": [
    "# Generate undirected contact network that contain all contacts\n",
    "taiwan_contact_network, contact_type_dict, uninfected_contact_type_dict = generate_taiwan_contact_network(\n",
    "    data_1_to_579)"
   ]
  },
  {
   "cell_type": "code",
   "execution_count": null,
   "id": "3eb3cb9d",
   "metadata": {},
   "outputs": [],
   "source": [
    "# Generate directed contact network that contain only infected contacts\n",
    "infection_contact_network, contact_type_dict, uninfected_contact_type_dict = generate_taiwan_infection_contact_network(\n",
    "    data_1_to_579)"
   ]
  },
  {
   "cell_type": "code",
   "execution_count": null,
   "id": "8f9165ff",
   "metadata": {},
   "outputs": [],
   "source": [
    "# Merge the two networks and generate edge list\n",
    "edge_list = generate_edge_list(\n",
    "    taiwan_contact_network, infection_contact_network)"
   ]
  },
  {
   "cell_type": "code",
   "execution_count": null,
   "id": "1fe7439c",
   "metadata": {},
   "outputs": [],
   "source": [
    "# Save edge list\n",
    "write_cytoscape_file(edge_list, 'edge_list.csv')"
   ]
  },
  {
   "cell_type": "code",
   "execution_count": null,
   "id": "769334a9",
   "metadata": {},
   "outputs": [],
   "source": [
    "# Save the edge list related to I269\n",
    "target_nodes = ['I269', 'I277', 'I284', 'I299']\n",
    "edge_list_I269 = []\n",
    "for row in edge_list:\n",
    "    if (row[0] in target_nodes) or (row[1] in target_nodes):\n",
    "        edge_list_I269.append(row)\n",
    "\n",
    "write_cytoscape_file(edge_list_I269, 'edge_list_I269.csv')"
   ]
  },
  {
   "attachments": {},
   "cell_type": "markdown",
   "id": "e87c5b08",
   "metadata": {},
   "source": [
    "# 3. Extract course of disease data and visualize it.\n",
    "\n",
    "Plot the KM plot to visualize the state transition data and the number of days spent on each transition.\n"
   ]
  },
  {
   "attachments": {},
   "cell_type": "markdown",
   "id": "2cdf55b3",
   "metadata": {},
   "source": [
    "## 3.1 Extract course of disease data"
   ]
  },
  {
   "cell_type": "code",
   "execution_count": null,
   "id": "49511724",
   "metadata": {},
   "outputs": [],
   "source": [
    "asymptomatic_to_symptom_days = extract_state_data(\n",
    "    data_1_to_579, 'infection_date', 'onset_of_symptom', 'recovery')\n",
    "asymptomatic_to_recover_days = extract_state_data(data_1_to_579, 'infection_date', 'recovery',\n",
    "                                                  'onset_of_symptom')\n",
    "symptom_to_icu_days = extract_state_data(\n",
    "    data_1_to_579, 'onset_of_symptom', 'icu', 'recovery')\n",
    "symptom_to_recover_days = extract_state_data(\n",
    "    data_1_to_579, 'onset_of_symptom', 'recovery', 'icu')\n",
    "icu_to_recover_days = extract_state_data(\n",
    "    data_1_to_579, 'icu', 'recovery', 'death_date')\n",
    "icu_to_dead_days = extract_state_data(\n",
    "    data_1_to_579, 'icu', 'death_date', 'recovery')\n",
    "\n",
    "asymptomatic_to_confirmed_days = extract_state_data(\n",
    "    data_1_to_579, 'infection_date', 'confirmed_date', 'onset_of_symptom')\n",
    "symptomatic_to_cinfirmed_days = extract_state_data(\n",
    "    data_1_to_579, 'onset_of_symptom', 'confirmed_date', 'recovery')"
   ]
  },
  {
   "attachments": {},
   "cell_type": "markdown",
   "id": "99f594b6",
   "metadata": {},
   "source": [
    "## 3.2 KM plot"
   ]
  },
  {
   "cell_type": "code",
   "execution_count": null,
   "id": "eae8f4f4",
   "metadata": {},
   "outputs": [],
   "source": [
    "fig = plt.figure(figsize=(18, 18))\n",
    "ax1 = fig.add_subplot(331)\n",
    "_ = state_transition_plot(asymptomatic_to_symptom_days,\n",
    "                          '$\\mathrm{I}^\\mathrm{A}$', '$\\mathrm{I}^\\mathrm{S}$')\n",
    "ax1.set_xlabel('')\n",
    "\n",
    "ax2 = fig.add_subplot(332)\n",
    "_ = state_transition_plot(asymptomatic_to_recover_days,\n",
    "                          '$\\mathrm{I}^\\mathrm{A}$', '$\\mathrm{R}$')\n",
    "ax2.set_xlabel('')\n",
    "ax2.set_ylabel('')\n",
    "\n",
    "ax3 = fig.add_subplot(333)\n",
    "_ = state_transition_plot(asymptomatic_to_confirmed_days,\n",
    "                          '$\\mathrm{I}^\\mathrm{A}$', '$\\mathrm{C}$')\n",
    "ax3.set_xlabel('')\n",
    "ax3.set_ylabel('')\n",
    "\n",
    "ax4 = fig.add_subplot(334)\n",
    "_ = state_transition_plot(\n",
    "    symptom_to_icu_days, '$\\mathrm{I}^\\mathrm{S}$', '$\\mathrm{I}^\\mathrm{C}$')\n",
    "ax4.set_xlabel('')\n",
    "\n",
    "ax5 = fig.add_subplot(335)\n",
    "_ = state_transition_plot(symptom_to_recover_days,\n",
    "                          '$\\mathrm{I}^\\mathrm{S}$', '$\\mathrm{R}$')\n",
    "ax5.set_xlabel('')\n",
    "ax5.set_ylabel('')\n",
    "\n",
    "ax6 = fig.add_subplot(336)\n",
    "_ = state_transition_plot(symptomatic_to_cinfirmed_days,\n",
    "                          '$\\mathrm{I}^\\mathrm{S}$', '$\\mathrm{C}$')\n",
    "ax6.set_ylabel('')\n",
    "\n",
    "ax7 = fig.add_subplot(337)\n",
    "_ = state_transition_plot(\n",
    "    icu_to_recover_days, '$\\mathrm{I}^\\mathrm{C}$', '$\\mathrm{R}$')\n",
    "\n",
    "ax8 = fig.add_subplot(338)\n",
    "_ = state_transition_plot(\n",
    "    icu_to_dead_days, '$\\mathrm{I}^\\mathrm{C}$', '$\\mathrm{D}$')\n",
    "ax8.set_ylabel('')\n",
    "\n",
    "# plt.savefig('Taiwan_COVID_state_transition_RW2023.pdf')"
   ]
  },
  {
   "attachments": {},
   "cell_type": "markdown",
   "id": "e6ee34f0",
   "metadata": {},
   "source": [
    "# 4. Print out course of disease and contact data statistics"
   ]
  },
  {
   "attachments": {},
   "cell_type": "markdown",
   "id": "0b1e44bf",
   "metadata": {},
   "source": [
    "## 4.1 Course of disease data statistics"
   ]
  },
  {
   "cell_type": "code",
   "execution_count": null,
   "id": "c2a039f4",
   "metadata": {},
   "outputs": [],
   "source": [
    "# 1 to 579 and the case I530 was removed from the Taiwan CDC\n",
    "total_case_number = len(data_1_to_579)"
   ]
  },
  {
   "cell_type": "code",
   "execution_count": null,
   "id": "35761a06",
   "metadata": {},
   "outputs": [],
   "source": [
    "number_of_abroad_cases = sum(data_1_to_579['abroad/local'] == 'Abroad')\n",
    "number_of_local_cases = sum(data_1_to_579['abroad/local'] == 'Local')\n",
    "number_of_navy_cases = sum(data_1_to_579['abroad/local'] == 'Navy')\n",
    "number_of_unknown = sum(\n",
    "    (data_1_to_579['abroad/local'] == 'C') | (data_1_to_579['abroad/local'] == 'X'))\n",
    "print(\n",
    "    f'Number of abroad cases: {number_of_abroad_cases}/{total_case_number} ({number_of_abroad_cases/total_case_number*100:.1f}%)')\n",
    "print(\n",
    "    f'Number of local cases: {number_of_local_cases}/{total_case_number} ({number_of_local_cases/total_case_number*100:.1f}%)')\n",
    "print(\n",
    "    f'Number of navy cases: {number_of_navy_cases}/{total_case_number} ({number_of_navy_cases/total_case_number*100:.1f}%)')\n",
    "print(\n",
    "    f'Number of unknown cases: {number_of_unknown}/{total_case_number} ({number_of_unknown/total_case_number*100:.1f}%)')"
   ]
  },
  {
   "cell_type": "code",
   "execution_count": null,
   "id": "8f600b53",
   "metadata": {},
   "outputs": [],
   "source": [
    "number_date_of_traveling = sum(((data_1_to_579['date_of_travelling'] != 'C') &\n",
    "                                (data_1_to_579['date_of_travelling'] != 'X')) &\n",
    "                               (data_1_to_579['visited_country/city'] != 'Panshi fast combat support ship'))\n",
    "number_travel_country = sum((data_1_to_579['visited_country/city'] != 'C') &\n",
    "                            (data_1_to_579['visited_country/city'] != 'X') &\n",
    "                            (data_1_to_579['visited_country/city'] != 'Panshi fast combat support ship'))\n",
    "print(\n",
    "    f'Number of date of traveling: {number_date_of_traveling}/{number_of_abroad_cases} ({number_date_of_traveling/number_of_abroad_cases*100:.1f}%)')\n",
    "print(\n",
    "    f'Number of travel country: {number_travel_country}/{number_of_abroad_cases} ({number_travel_country/number_of_abroad_cases*100:.1f}%)')"
   ]
  },
  {
   "cell_type": "code",
   "execution_count": null,
   "id": "a7394e77",
   "metadata": {},
   "outputs": [],
   "source": [
    "number_of_male = sum(data_1_to_579['gender'] == 'Male')\n",
    "number_of_female = sum(data_1_to_579['gender'] == 'Female')\n",
    "number_of_unknown = sum((data_1_to_579['gender'] == 'C') | (\n",
    "    data_1_to_579['gender'] == 'X'))\n",
    "print(\n",
    "    f'Number of male cases: {number_of_male}/{total_case_number} ({number_of_male/total_case_number*100:.1f}%)')\n",
    "print(\n",
    "    f'Number of female cases: {number_of_female}/{total_case_number} ({number_of_female/total_case_number*100:.1f}%)')\n",
    "print(\n",
    "    f'Number of unknown cases: {number_of_unknown}/{total_case_number} ({number_of_unknown/total_case_number*100:.1f}%)')"
   ]
  },
  {
   "cell_type": "code",
   "execution_count": null,
   "id": "fe040e5b",
   "metadata": {},
   "outputs": [],
   "source": [
    "number_of_0_to_9 = sum(data_1_to_579['age'] == '0 to 9')\n",
    "number_of_10_to_19 = sum(data_1_to_579['age'] == '10 to 19')\n",
    "number_of_20_to_29 = sum(data_1_to_579['age'] == '20 to 29')\n",
    "number_of_30_to_39 = sum(data_1_to_579['age'] == '30 to 39')\n",
    "number_of_40_to_49 = sum(data_1_to_579['age'] == '40 to 49')\n",
    "number_of_50_to_59 = sum(data_1_to_579['age'] == '50 to 59')\n",
    "number_of_60_to_69 = sum(data_1_to_579['age'] == '60 to 69')\n",
    "number_of_70_to_79 = sum(data_1_to_579['age'] == '70 to 79')\n",
    "number_of_80_to_89 = sum(data_1_to_579['age'] == '80 to 89')\n",
    "number_of_unknown = sum(\n",
    "    (data_1_to_579['age'] == 'C') | (data_1_to_579['age'] == 'X'))\n",
    "print(\n",
    "    f'Number of 0 to 9 cases: {number_of_0_to_9}/{total_case_number} ({number_of_0_to_9/total_case_number*100:.1f}%)')\n",
    "print(\n",
    "    f'Number of 10 to 19 cases: {number_of_10_to_19}/{total_case_number} ({number_of_10_to_19/total_case_number*100:.1f}%)')\n",
    "print(\n",
    "    f'Number of 20 to 29 cases: {number_of_20_to_29}/{total_case_number} ({number_of_20_to_29/total_case_number*100:.1f}%)')\n",
    "print(\n",
    "    f'Number of 30 to 39 cases: {number_of_30_to_39}/{total_case_number} ({number_of_30_to_39/total_case_number*100:.1f}%)')\n",
    "print(\n",
    "    f'Number of 40 to 49 cases: {number_of_40_to_49}/{total_case_number} ({number_of_40_to_49/total_case_number*100:.1f}%)')\n",
    "print(\n",
    "    f'Number of 50 to 59 cases: {number_of_50_to_59}/{total_case_number} ({number_of_50_to_59/total_case_number*100:.1f}%)')\n",
    "print(\n",
    "    f'Number of 60 to 69 cases: {number_of_60_to_69}/{total_case_number} ({number_of_60_to_69/total_case_number*100:.1f}%)')\n",
    "print(\n",
    "    f'Number of 70 to 79 cases: {number_of_70_to_79}/{total_case_number} ({number_of_70_to_79/total_case_number*100:.1f}%)')\n",
    "print(\n",
    "    f'Number of 80 to 89 cases: {number_of_80_to_89}/{total_case_number} ({number_of_80_to_89/total_case_number*100:.1f}%)')\n",
    "print(\n",
    "    f'Number of unknown cases: {number_of_unknown}/{total_case_number} ({number_of_unknown/total_case_number*100:.1f}%)')"
   ]
  },
  {
   "cell_type": "code",
   "execution_count": null,
   "id": "e958f497",
   "metadata": {},
   "outputs": [],
   "source": [
    "number_of_asymptomatic = sum((data_1_to_579['infection_date'] != 'C') &\n",
    "                             (data_1_to_579['infection_date'] != 'X'))\n",
    "number_of_symptomatic = sum((data_1_to_579['onset_of_symptom'] != 'C') &\n",
    "                            (data_1_to_579['onset_of_symptom'] != 'X'))\n",
    "number_of_symptoms = sum((data_1_to_579['symptom'] != 'C')\n",
    "                         & (data_1_to_579['symptom'] != 'X'))\n",
    "number_of_confirmed = sum((data_1_to_579['confirmed_date'] != 'C') &\n",
    "                          (data_1_to_579['confirmed_date'] != 'X'))\n",
    "number_of_critically_ill = sum((data_1_to_579['icu'] != 'C') &\n",
    "                               (data_1_to_579['icu'] != 'X'))\n",
    "number_of_recovered = sum((data_1_to_579['recovery'] != 'C') &\n",
    "                          (data_1_to_579['recovery'] != 'X'))\n",
    "number_of_report = sum((data_1_to_579['report_to_cdc'] != 'C') &\n",
    "                       (data_1_to_579['report_to_cdc'] != 'X'))\n",
    "number_of_death = sum((data_1_to_579['death_date'] != 'C') &\n",
    "                       (data_1_to_579['death_date'] != 'X'))\n",
    "print(\n",
    "    f'Number of asymptomatic: {number_of_asymptomatic}/{total_case_number} ({number_of_asymptomatic/total_case_number*100:.1f}%)')\n",
    "print(\n",
    "    f'Number of symptomatic: {number_of_symptomatic}/{number_of_symptoms} ({number_of_symptomatic/number_of_symptoms*100:.1f}%)')\n",
    "print(\n",
    "    f'Number of confirmed: {number_of_confirmed}/{total_case_number} ({number_of_confirmed/total_case_number*100:.1f}%)')\n",
    "print(f'Number of critically ill: {number_of_critically_ill}')\n",
    "print(\n",
    "    f'Number of recovered: {number_of_recovered}/{526} ({number_of_recovered/526*100:.1f}%)')\n",
    "print(\n",
    "    f'Number of report: {number_of_report}/{total_case_number} ({number_of_report/total_case_number*100:.1f}%)')\n",
    "print(\n",
    "    f'Number of death: {number_of_death}/{total_case_number} ({number_of_death/total_case_number*100:.1f}%)')"
   ]
  },
  {
   "attachments": {},
   "cell_type": "markdown",
   "id": "40cfd81d",
   "metadata": {},
   "source": [
    "## 4.2 Contact data statistics"
   ]
  },
  {
   "cell_type": "code",
   "execution_count": null,
   "id": "dd07da10",
   "metadata": {},
   "outputs": [],
   "source": [
    "def count_clusters(multigraph):\n",
    "    # Get connected components (clusters)\n",
    "    clusters = list(nx.connected_components(multigraph))\n",
    "    num_clusters = len(clusters)\n",
    "    return num_clusters"
   ]
  },
  {
   "cell_type": "code",
   "execution_count": null,
   "id": "cb30608c",
   "metadata": {},
   "outputs": [],
   "source": [
    "def count_cluster_sizes(multigraph):\n",
    "    # Get connected components (clusters)\n",
    "    clusters = list(nx.connected_components(multigraph))\n",
    "\n",
    "    # Calculate sizes of clusters\n",
    "    cluster_sizes = [len(cluster) for cluster in clusters]\n",
    "    # Calculate number of source infected cases\n",
    "    infected_cases = []\n",
    "    for cluster in clusters:\n",
    "        number_of_infected_case = 0\n",
    "        for node in cluster:\n",
    "            if isinstance(node, str):\n",
    "                number_of_infected_case += 1\n",
    "        infected_cases.append(number_of_infected_case)\n",
    "\n",
    "    return cluster_sizes, infected_cases"
   ]
  },
  {
   "cell_type": "code",
   "execution_count": null,
   "id": "61c67676",
   "metadata": {},
   "outputs": [],
   "source": [
    "cluster_num = count_clusters(taiwan_contact_network)\n",
    "print(f'Number of clusters: {cluster_num}')"
   ]
  },
  {
   "cell_type": "code",
   "execution_count": null,
   "id": "d20eb987",
   "metadata": {},
   "outputs": [],
   "source": [
    "cluster_sizes, infected_cases = count_cluster_sizes(taiwan_contact_network)\n",
    "print(f'cluster sizes [Min, Mean, Median, Max]: \\\n",
    "    {min(cluster_sizes), np.mean(cluster_sizes), np.median(cluster_sizes), max(cluster_sizes)}')"
   ]
  },
  {
   "cell_type": "code",
   "execution_count": null,
   "id": "32db01ad",
   "metadata": {},
   "outputs": [],
   "source": [
    "direction_edge_number = 0\n",
    "infection_edge_number = 0\n",
    "for row in edge_list:\n",
    "    if row[-1] == True:\n",
    "        direction_edge_number += 1\n",
    "    if isinstance(row[0], str) and isinstance(row[1], str):\n",
    "        infection_edge_number += 1\n",
    "\n",
    "print(f'Number of nodes: {len(taiwan_contact_network.nodes)}')\n",
    "print(f'Number of infected nodes: {len(data_1_to_579)}')\n",
    "print(\n",
    "    f'Number of uninfected nodes: {len(taiwan_contact_network.nodes) - len(data_1_to_579)}')\n",
    "\n",
    "print(f'Number of edges: {len(edge_list)}')\n",
    "print(f'Number of directional edge: {direction_edge_number}')\n",
    "print(f'Number of infection edge: {infection_edge_number}')\n",
    "print(\n",
    "    f'Percentage of direction edge within all edges: {direction_edge_number/len(edge_list)*100}%')\n",
    "print(\n",
    "    f'Percentage of direction edge within infection edges: {direction_edge_number/infection_edge_number*100}%')"
   ]
  },
  {
   "cell_type": "code",
   "execution_count": null,
   "id": "45b37d01",
   "metadata": {},
   "outputs": [],
   "source": [
    "# Plot bar char for contact type edges\n",
    "contact_type_number = max(max(contact_type_dict.values()), max(\n",
    "    uninfected_contact_type_dict.values()))+1\n",
    "contact_type_array = np.zeros(contact_type_number)\n",
    "infection_contact_type_array = np.zeros(contact_type_number)\n",
    "\n",
    "for row in edge_list:\n",
    "    i = row[2]\n",
    "    contact_type_array[i] += 1\n",
    "    if isinstance(row[0], str) and isinstance(row[1], str):\n",
    "        infection_contact_type_array[i] += 1\n",
    "\n",
    "x = np.arange(contact_type_number)\n",
    "contact_type_x_axis = []\n",
    "for i in range(contact_type_number):\n",
    "    try:\n",
    "        contact_type_x_axis.append(contact_type_dict.inverse[i])\n",
    "    except:\n",
    "        contact_type_x_axis.append(uninfected_contact_type_dict.inverse[i])\n",
    "\n",
    "# Sort based on the contact_type_array\n",
    "sorted_indices = np.argsort(contact_type_array)\n",
    "contact_type_array = contact_type_array[sorted_indices]\n",
    "infection_contact_type_array = infection_contact_type_array[sorted_indices]\n",
    "contact_type_x_axis = [contact_type_x_axis[i] for i in sorted_indices]\n",
    "\n",
    "bar_width = 0.35\n",
    "plt.bar(x-bar_width/2, infection_contact_type_array, width=bar_width, label='Infection edges',\n",
    "        color=current_palette[0])\n",
    "plt.bar(x+bar_width/2, contact_type_array, width=bar_width, label='Total edges',\n",
    "        color=current_palette[1])\n",
    "\n",
    "plt.yscale('log')\n",
    "plt.xticks(x, contact_type_x_axis, rotation=45, ha='right')\n",
    "\n",
    "# plt.xlabel('Contact type')\n",
    "plt.ylabel('Frequency')\n",
    "plt.xlim(-0.5, contact_type_number-0.5)\n",
    "\n",
    "plt.legend()\n",
    "# plt.savefig('contact_type_bar_RW2023.pdf')\n",
    "plt.show()"
   ]
  },
  {
   "cell_type": "code",
   "execution_count": null,
   "id": "7a83c597",
   "metadata": {},
   "outputs": [],
   "source": [
    "contact_type_dict = {'grandparent/grandchild':'Family', 'brother/sister':'Family',\n",
    "                     'coral_princess':'Ship', 'the_same_hotel':'Hotel', \n",
    "                     'parent/child':'Family', 'friend':'Friend',\n",
    "                     'the_same_quarantine_hotel':'Hotel', 'coworker':'Workplace',\n",
    "                     'the_same_hospital':'Health care', 'couple':'Couple',\n",
    "                     'live_together':'Household', 'family':'Family',\n",
    "                     'the_same_car':'Car', 'travel_together':'Travel',\n",
    "                     'the_same_flight_nearby_seat':'Flight (nearby seat)',\n",
    "                     'the_same_school':'School', 'the_same_flight':'Flight',\n",
    "                     'number_of_uninfected_contact_ship':'Ship',\n",
    "                     'panshi_fast_combat_support_ship':'Ship',\n",
    "                     'other_unknown_contact':'Municipality'}"
   ]
  },
  {
   "cell_type": "code",
   "execution_count": null,
   "id": "3a26ffbd",
   "metadata": {},
   "outputs": [],
   "source": [
    "contact_types = np.array(['Family', 'Ship', 'Hotel', 'Friend', 'Workplace',\n",
    "                          'Health care', 'Couple', 'Household', 'Car', 'Travel', \n",
    "                          'Flight (nearby seat)', 'School', 'Flight', 'Municipality'])\n",
    "mapped_infections = np.zeros(len(contact_types))\n",
    "mapped_contacts = np.zeros(len(contact_types))\n",
    "for i, contact_type  in enumerate(contact_type_x_axis):\n",
    "    mapped_contact_type = contact_type_dict[contact_type]\n",
    "    infections = infection_contact_type_array[i]\n",
    "    contacts = contact_type_array[i]\n",
    "    \n",
    "    index = np.where(contact_types == mapped_contact_type)[0][0]\n",
    "    mapped_infections[index] += infections\n",
    "    mapped_contacts[index] += contacts\n",
    "\n",
    "if np.sum(mapped_contacts) != np.sum(contact_type_array):\n",
    "    print('Error: The sum of mapped contacts does not match the sum of contact_type_array')\n",
    "\n",
    "sorted_indices = np.argsort(mapped_contacts)\n",
    "mapped_contacts = mapped_contacts[sorted_indices]\n",
    "mapped_infections = mapped_infections[sorted_indices]\n",
    "contact_types = contact_types[sorted_indices]\n",
    "\n",
    "x = np.arange(len(contact_types))\n",
    "plt.bar(x-bar_width/2, mapped_infections, width=bar_width, label='Infected contacts',\n",
    "        color=current_palette[0])\n",
    "plt.bar(x+bar_width/2, mapped_contacts, width=bar_width, label='Total contacts',\n",
    "        color=current_palette[1])\n",
    "plt.yscale('log')\n",
    "plt.xticks(x, contact_types, rotation=45, ha='right')\n",
    "\n",
    "plt.ylabel('Frequency')\n",
    "plt.xlim(-0.5, x[-1]+0.5)\n",
    "\n",
    "plt.legend(loc='best')\n",
    "# plt.savefig('contact_type_bar_RW2023.pdf')\n",
    "plt.show()"
   ]
  },
  {
   "cell_type": "code",
   "execution_count": null,
   "id": "4d6cf331",
   "metadata": {},
   "outputs": [],
   "source": [
    "### Calculate the degree of the network\n",
    "degrees = [degree for node, degree in taiwan_contact_network.degree()]\n",
    "\n",
    "fit = powerlaw.Fit(degrees, discrete=True, xmin=1, estimate_discrete=True)\n",
    "### Fit the powerlaw distribution and calculate the goodness of fit\n",
    "fit_powerlaw = fit.power_law\n",
    "print(f'Power Law alpha = {fit_powerlaw.alpha}, sigma = {fit_powerlaw.sigma}')\n",
    "\n",
    "\n",
    "### Fit the lognormal distribution and calculate the goodness of fit\n",
    "fit_lognormal = fit.lognormal\n",
    "print(f'Lognormal mu = {fit_lognormal.mu}, sigma = {fit_lognormal.sigma}')\n",
    "\n",
    "\n",
    "## Fit the exponential distribution and calculate the goodness of fit\n",
    "fit_exponential = fit.exponential\n",
    "print(f'Exponential lambda = {fit_exponential.Lambda}\\n')\n",
    "\n",
    "print(f'Power Law goodness of fit = {fit_powerlaw.KS()}')\n",
    "print(f'Lognormal goodness of fit = {fit_lognormal.KS()}')\n",
    "print(f'Exponential goodness of fit = {fit_exponential.KS()}\\n')\n",
    "\n",
    "print(f\"Compare powerlaw & lognormal: {fit.distribution_compare('power_law', 'lognormal')}\")\n",
    "print(f\"Compare powerlaw & exponential: {fit.distribution_compare('power_law', 'exponential')}\")\n",
    "print(f\"Compare lognormal & exponential: {fit.distribution_compare('lognormal', 'exponential')}\\n\")\n",
    "\n",
    "### Visualize the degree distribution and the fitted powerlaw, lognormal and exponential distributions\n",
    "fig, ax = plt.subplots()\n",
    "fit.plot_ccdf(color=current_palette[0], linewidth=2, ax=ax)\n",
    "fit_powerlaw.plot_ccdf(color=current_palette[1], linewidth=1, linestyle='--', ax=ax)\n",
    "fit_lognormal.plot_ccdf(color=current_palette[2], linewidth=1, linestyle='--', ax=ax)\n",
    "fit_exponential.plot_ccdf(color=current_palette[3], linewidth=1, linestyle='--', ax=ax)\n",
    "\n",
    "plt.xlabel('Degree')\n",
    "plt.ylabel('Complementary cumulative distribution function (CCDF)')\n",
    "plt.legend(['Data', 'Power Law', 'Lognormal', 'Exponential'], loc='best')\n",
    "plt.show()\n",
    "\n",
    "fig, ax = plt.subplots()\n",
    "fit.plot_cdf(color=current_palette[0], linewidth=2, ax=ax)\n",
    "fit_powerlaw.plot_cdf(color=current_palette[1], linewidth=1, linestyle='--', ax=ax)\n",
    "fit_lognormal.plot_cdf(color=current_palette[2], linewidth=1, linestyle='--', ax=ax)\n",
    "fit_exponential.plot_cdf(color=current_palette[3], linewidth=1, linestyle='--', ax=ax)\n",
    "\n",
    "plt.xlabel('Degree')\n",
    "plt.ylabel('Cumulative distribution function (CDF)')\n",
    "plt.legend(['Data', 'Power Law', 'Lognormal', 'Exponential'], loc='best')\n",
    "plt.savefig('degree_distribution_cdf_RW2023.pdf')\n",
    "plt.show()"
   ]
  },
  {
   "attachments": {},
   "cell_type": "markdown",
   "id": "6b30a377",
   "metadata": {},
   "source": [
    "# 5. Reproduce statistics"
   ]
  },
  {
   "attachments": {},
   "cell_type": "markdown",
   "id": "1a730fa8",
   "metadata": {},
   "source": [
    "## 5.1 Liu2020_Analysis_of_Imported_Cases_of_COVID-19_in_Taiwan_A_Nationwide_Study\n",
    "\n",
    "Note: \n",
    "\n",
    "1. \"We analysed the characteristics, infection source, symptom presentation,\n",
    "and route of identiﬁcation of the 321 imported cases that were identiﬁed from 21 January to 6 April 2020.\"\n",
    "\n",
    "2. \"There was a cumulative total of 373 confirmed cases of COVID-19 in Taiwan from 21 January to \n",
    "6 April 2020, 321 (86.1%) of which were imported.\"\n",
    "\n",
    "3. \"Of the imported cases, 96.6\\% were Taiwanese and 53% were femail.\""
   ]
  },
  {
   "cell_type": "code",
   "execution_count": null,
   "id": "9bfc05c8",
   "metadata": {},
   "outputs": [],
   "source": [
    "# Load data\n",
    "data_1_to_373 = clean_taiwan_data(Taiwan_data_sheet, 1, 373)\n",
    "\n",
    "data_liu_abroad = data_1_to_373[data_1_to_373['abroad/local']=='Abroad']\n",
    "print(f'Number of abroad cases: {len(data_liu_abroad)}')\n",
    "data_liu_local = data_1_to_373[data_1_to_373['abroad/local']=='Local']\n",
    "print(f'Number of local cases: {len(data_liu_local)}')"
   ]
  },
  {
   "attachments": {},
   "cell_type": "markdown",
   "id": "fe6808a4",
   "metadata": {},
   "source": [
    "### 5.1.1 Figure 1 stacked bar chart"
   ]
  },
  {
   "cell_type": "code",
   "execution_count": null,
   "id": "eea69118",
   "metadata": {},
   "outputs": [],
   "source": [
    "for i in data_liu_abroad['age'].unique():\n",
    "    percentage = (sum(data_liu_abroad['age']==i))/321*100\n",
    "    print(f\"{i}: {percentage:.2f}%\")\n"
   ]
  },
  {
   "cell_type": "code",
   "execution_count": null,
   "id": "e8ee981c",
   "metadata": {},
   "outputs": [],
   "source": [
    "data_liu_abroad_male = data_liu_abroad[data_liu_abroad['gender']=='Male']\n",
    "data_liu_abroad_female = data_liu_abroad[data_liu_abroad['gender']=='Female']\n",
    "print(f'Percentage of male cases: {len(data_liu_abroad_male)/321*100:.2f}%')\n",
    "print(f'Percentage of female cases: {len(data_liu_abroad_female)/321*100:.2f}%')\n",
    "male_age_list = []\n",
    "female_age_list = []\n",
    "age_index = np.sort(data_liu_abroad_male['age'].unique())\n",
    "for i in age_index:\n",
    "    num_age = sum(data_liu_abroad_male['age']==i)\n",
    "    male_age_list.append(num_age)\n",
    "    num_age = sum(data_liu_abroad_female['age']==i)\n",
    "    female_age_list.append(num_age)"
   ]
  },
  {
   "cell_type": "code",
   "execution_count": null,
   "id": "9e8af03a",
   "metadata": {},
   "outputs": [],
   "source": [
    "# Stacked bar chart\n",
    "plt.figure(figsize=(7, 8))\n",
    "plt.bar(age_index, female_age_list, bottom=male_age_list, label='Female')\n",
    "plt.bar(age_index, male_age_list, label='Male')\n",
    "plt.xticks(range(len(age_index)), ['<10', '10-19', '20-29', '30-39', '40-49', '50-59', '60-69', '70-79', '80-89'])\n",
    "plt.legend()\n",
    "plt.xlabel('Age (years)')\n",
    "plt.ylabel('Number of cases')\n",
    "plt.ylim([0, 130])\n",
    "plt.xlim([-1, 9])\n",
    "# plt.savefig('Reproduce_liu2020_imported_fig1_RW2023.pdf')"
   ]
  },
  {
   "attachments": {},
   "cell_type": "markdown",
   "id": "1cfe69c0",
   "metadata": {},
   "source": [
    "### 5.1.2 Figure 2: Date of arrival"
   ]
  },
  {
   "cell_type": "code",
   "execution_count": null,
   "id": "9ffa90f6",
   "metadata": {},
   "outputs": [],
   "source": [
    "country_list = data_liu_abroad['infection_source'].to_list()\n",
    "arrival_date_list = data_liu_abroad['date_of_arrival'].to_list()\n",
    "for i, time in enumerate(arrival_date_list):\n",
    "    if type(time) != str:\n",
    "        arrival_date_list[i] = time.strftime('%Y-%m-%d')"
   ]
  },
  {
   "cell_type": "code",
   "execution_count": null,
   "id": "ef3f1b6c",
   "metadata": {},
   "outputs": [],
   "source": [
    "def get_continent_liu2020(country_list):\n",
    "    continent_list = []\n",
    "    for country in country_list:\n",
    "        if country == 'China':\n",
    "            continent_list.append('China')\n",
    "        elif country == 'Europe':\n",
    "            continent_list.append('Europe')\n",
    "        elif country == 'South America':\n",
    "            continent_list.append('South America')\n",
    "        elif country == 'Southeast Asia':\n",
    "            continent_list.append('East & South Asia')\n",
    "        elif country == 'North America':\n",
    "            continent_list.append('North America')\n",
    "        else:\n",
    "            try:\n",
    "                country_info = CountryInfo(country)\n",
    "                continent = country_info.subregion()\n",
    "                if continent == 'South-Eastern Asia' or continent == 'Eastern Asia':\n",
    "                    continent = 'East & South Asia'\n",
    "                elif continent in ['Northern Europe', 'Southern Europe', 'Western Europe', 'Eastern Europe']:\n",
    "                    continent = 'Europe'\n",
    "                elif continent == 'Australia and New Zealand':\n",
    "                    continent = 'Oceania'\n",
    "                elif continent in ['Central America', 'South America']:\n",
    "                    continent = 'South America'\n",
    "                elif continent in ['Northern Africa', 'Southern Africa', 'Western Asia']:\n",
    "                    continent = 'Middle East & Africa'\n",
    "                elif continent == 'Northern America':\n",
    "                    continent = 'North America'\n",
    "                continent_list.append(continent)\n",
    "            except Exception as e:\n",
    "                print(f'Warring, can not find continent for {country}')\n",
    "                continent_list.append('Unknown')\n",
    "            \n",
    "    return(continent_list)\n"
   ]
  },
  {
   "cell_type": "code",
   "execution_count": null,
   "id": "01e1ba0b",
   "metadata": {},
   "outputs": [],
   "source": [
    "continent_list = get_continent_liu2020(country_list)"
   ]
  },
  {
   "cell_type": "code",
   "execution_count": null,
   "id": "8acb9146",
   "metadata": {},
   "outputs": [],
   "source": [
    "# Plot stacked bar chart\n",
    "fig, ax = plt.subplots(figsize=(10, 6))\n",
    "\n",
    "# Group data by date and continent\n",
    "grouped_data = pd.DataFrame({'date': arrival_date_list, 'continent': continent_list})\n",
    "grouped_data = grouped_data.groupby(['date', 'continent']).size().reset_index(name='count')\n",
    "\n",
    "# Pivot data to create stacked bar chart\n",
    "pivot_data = grouped_data.pivot(index='date', columns='continent', values='count')\n",
    "pivot_data = pivot_data.fillna(0)\n",
    "\n",
    "# Define order of stacked bars\n",
    "stack_order = ['South America', 'Oceania', 'North America', 'Middle East & Africa', 'Europe', 'China', 'East & South Asia', 'Unknown']\n",
    "\n",
    "# Plot stacked bar chart\n",
    "pivot_data[stack_order].plot(kind='bar', stacked=True, ax=ax, color=[current_palette[4], '#a6bddb', current_palette[0], current_palette[3], current_palette[1], current_palette[2], current_palette[5], '#7f7f7f'])\n",
    "\n",
    "# Set x-axis label\n",
    "ax.set_xlabel('Date of arrival')\n",
    "\n",
    "# Set y-axis label\n",
    "ax.set_ylabel('Number of cases')\n",
    "\n",
    "ax.set_xlim([-0.5, 42.5])\n",
    "ax.set_ylim([0, 33])\n",
    "\n",
    "# Remove word \"continent\" from legend\n",
    "handles, labels = ax.get_legend_handles_labels()\n",
    "labels = [label.replace('continent', '') for label in labels]\n",
    "ax.legend(handles, labels, loc='best')\n",
    "\n",
    "# Show plot\n",
    "plt.show()\n",
    "# plt.savefig('Reproduce_liu2020_imported_fig2_RW2023.pdf')\n",
    "\n"
   ]
  },
  {
   "attachments": {},
   "cell_type": "markdown",
   "id": "0f932e67",
   "metadata": {},
   "source": [
    "### 5.1.3 Table 2"
   ]
  },
  {
   "cell_type": "code",
   "execution_count": null,
   "id": "7c0f54ce",
   "metadata": {},
   "outputs": [],
   "source": [
    "symptom_onsets = data_liu_abroad['onset_of_symptom'].to_list()\n",
    "liu_id = data_liu_abroad['id'].to_list()"
   ]
  },
  {
   "cell_type": "code",
   "execution_count": null,
   "id": "8bf56767",
   "metadata": {},
   "outputs": [],
   "source": [
    "symptoms = data_liu_abroad['symptom']\n",
    "unique_symptoms = np.array([])\n",
    "for i, symptom in enumerate(symptoms):\n",
    "    symptom_tmp = np.array([s.lower() for s in symptom.split(', ')])\n",
    "    unique_symptoms = np.hstack([unique_symptoms, symptom_tmp])\n",
    "\n",
    "unique_symptoms = np.unique(unique_symptoms)\n",
    "print(unique_symptoms)"
   ]
  },
  {
   "cell_type": "code",
   "execution_count": null,
   "id": "ebac6530",
   "metadata": {},
   "outputs": [],
   "source": [
    "liu_symptom_list = np.array(['fever', 'chills', 'malaise', 'myalgia or arthralgia', 'cough',\n",
    "                'sore throat', 'rhinorrhoea, sneezing, nasal stiffiness',\n",
    "                'chest tightness or pain', 'dyspnea', 'loss of smell or taste', \n",
    "                'headache', 'dizziness', 'diarrhoea', 'abdominal pain', 'nausea or vomiting',\n",
    "                'itching, congestion, pain in the eyes', 'no symptoms'])\n",
    "liu_symptom_dict = {symptom: i for i, symptom in enumerate(liu_symptom_list)}\n",
    "print(liu_symptom_dict)\n",
    "print(np.sort(liu_symptom_list))\n",
    "\n",
    "my_symptom_to_liu_symptom_dict = \\\n",
    "   {'abdominal pain': 'abdominal pain', 'chest pain': 'chest tightness or pain',\n",
    "    'chills or rigours': 'chills', \n",
    "    'congestion or runny nose': 'rhinorrhoea, sneezing, nasal stiffiness',\n",
    "    'cough': 'cough', 'diarrhea': 'diarrhoea', 'dizziness': 'dizziness',\n",
    "    'dyspnea': 'dyspnea', 'fever': 'fever', 'general fatigue': 'malaise',\n",
    "    'headache': 'headache', 'loss of smell': 'loss of smell or taste', \n",
    "    'loss of taste': 'loss of smell or taste', 'lymphadenopathy': 'Others', \n",
    "    'muscle or body pain': 'myalgia or arthralgia', 'nausea': 'nausea or vomiting',\n",
    "    'pneumonia': 'Others', 'rds': 'Others', \n",
    "    'red or irritated eyes': 'itching, congestion, pain in the eyes',\n",
    "    'respiratory infectious disease': 'rhinorrhoea, sneezing, nasal stiffiness',\n",
    "    'running nose': 'rhinorrhoea, sneezing, nasal stiffiness',\n",
    "    'sneeze': 'rhinorrhoea, sneezing, nasal stiffiness',\n",
    "    'sore throat': 'sore throat', 'sweating': 'Others', \n",
    "    'upper respiratory symptoms': 'rhinorrhoea, sneezing, nasal stiffiness',\n",
    "    'vomiting': 'nausea or vomiting', 'x': 'None'}"
   ]
  },
  {
   "cell_type": "code",
   "execution_count": null,
   "id": "118cbdba",
   "metadata": {},
   "outputs": [],
   "source": [
    "# Count number of symptom \n",
    "count_liu_symptom_list = np.zeros(len(liu_symptom_list))\n",
    "for i, symptom in enumerate(symptoms):\n",
    "    count_list_tmp = np.zeros(len(liu_symptom_list))\n",
    "    for symptom_tmp in symptom.split(', '):\n",
    "        symptom_tmp = symptom_tmp.lower()\n",
    "        symptom_tmp_map = my_symptom_to_liu_symptom_dict[symptom_tmp]\n",
    "        if (symptom_tmp_map != 'None') and (symptom_tmp_map != 'Others'):\n",
    "            count_list_tmp[liu_symptom_dict[symptom_tmp_map]] = 1\n",
    "        elif (symptom_tmp_map == 'None') and (symptom_tmp_map != 'Others'):\n",
    "            if symptom_onsets[i] == 'X':\n",
    "                count_list_tmp[liu_symptom_dict['no symptoms']] = 1\n",
    "    count_liu_symptom_list += count_list_tmp\n",
    "        "
   ]
  },
  {
   "cell_type": "code",
   "execution_count": null,
   "id": "c9abf155",
   "metadata": {},
   "outputs": [],
   "source": [
    "liu_symptom_count_table = pd.DataFrame({'Symptom': liu_symptom_list, 'Count': np.int32(count_liu_symptom_list), 'Percent': np.round((count_liu_symptom_list/321)*1000)/10})\n",
    "try:\n",
    "    print(liu_symptom_count_table)\n",
    "except:\n",
    "    print(\"Error: Could not print liu_symptom_count_table\")\n"
   ]
  },
  {
   "attachments": {},
   "cell_type": "markdown",
   "id": "28849f6c",
   "metadata": {},
   "source": [
    "### 5.1.4 Figure 3"
   ]
  },
  {
   "cell_type": "code",
   "execution_count": null,
   "id": "c3a0e4bc",
   "metadata": {},
   "outputs": [],
   "source": [
    "days_from_arrival_to_symptom = np.array([])\n",
    "for i, symptom_onset in enumerate(symptom_onsets):\n",
    "    if isinstance(symptom_onset, datetime.datetime):\n",
    "        days_from_arrival_to_symptom = \\\n",
    "            np.append(days_from_arrival_to_symptom, \n",
    "                      (symptom_onset - datetime.datetime.strptime(arrival_date_list[i], '%Y-%m-%d')).days)\n",
    "    else:\n",
    "        # days_from_arrival_to_symptom = np.append(days_from_arrival_to_symptom, np.nan)\n",
    "        pass\n"
   ]
  },
  {
   "cell_type": "code",
   "execution_count": null,
   "id": "f92a8855",
   "metadata": {},
   "outputs": [],
   "source": [
    "# Count how many cases happened each day in days_from_arrival_to_symptom\n",
    "counts, bins = np.histogram(days_from_arrival_to_symptom, bins=np.arange(np.min(days_from_arrival_to_symptom), np.max(days_from_arrival_to_symptom)))\n",
    "\n",
    "# Plot a bar chart ranging from -30 to 13\n",
    "plt.bar(bins[:-1], counts, width=0.8, color=current_palette[0], edgecolor='grey')\n",
    "plt.bar(bins[0:31], counts[0:31], width=0.8, color='lightblue', edgecolor='grey')\n",
    "plt.xlabel('Days from arrival to symptom onset')\n",
    "plt.ylabel('Number of cases')\n",
    "plt.xlim([-31, 19])\n",
    "_ = plt.xticks(np.arange(-30, 18, 5))"
   ]
  },
  {
   "attachments": {},
   "cell_type": "markdown",
   "id": "6dfee28b",
   "metadata": {},
   "source": [
    "### 5.1.5 Figure 4"
   ]
  },
  {
   "cell_type": "code",
   "execution_count": null,
   "id": "fb248f2b",
   "metadata": {},
   "outputs": [],
   "source": [
    "data_liu_abroad['way_of_discover'].unique()"
   ]
  },
  {
   "cell_type": "code",
   "execution_count": null,
   "id": "65b1b0dc",
   "metadata": {},
   "outputs": [],
   "source": [
    "discovery_dict = {'self-quarantine': 'home quarantine', 'airport quarantine': 'airport screening',\n",
    "                  'contact inspection': 'contact tracing and testing',\n",
    "                  'self-medication': 'hospital notification', \n",
    "                  'X': 'contact tracing and testing', \n",
    "                  'health unit arranges for medical treatment': 'hospital notification',\n",
    "                  'hospital quarantine': 'hospital notification',\n",
    "                  'quarantine': 'hospital notification'}\n",
    "way_of_discover_symptom = np.array([])\n",
    "way_of_discover_asymptom = np.array([])\n",
    "for i, way_of_discover in enumerate(data_liu_abroad['way_of_discover']):\n",
    "    way_of_discover_liu = discovery_dict[way_of_discover]\n",
    "    symptom_onset_date = data_liu_abroad['onset_of_symptom'].iloc[i]\n",
    "    arrival_date = data_liu_abroad['date_of_arrival'].iloc[i]\n",
    "    try:\n",
    "        days = (symptom_onset_date-arrival_date).days\n",
    "        if days <= 0: # symptom before arrival\n",
    "            way_of_discover_symptom = np.append(way_of_discover_symptom, way_of_discover_liu)\n",
    "        else:\n",
    "            way_of_discover_asymptom = np.append(way_of_discover_asymptom, way_of_discover_liu)\n",
    "    except:\n",
    "        pass"
   ]
  },
  {
   "cell_type": "code",
   "execution_count": null,
   "id": "b5be2742",
   "metadata": {},
   "outputs": [],
   "source": [
    "values, counts = np.unique(way_of_discover_symptom, return_counts=True)\n",
    "plt.bar(0, counts[values=='hospital notification'], color=current_palette[4], width=0.2)\n",
    "plt.bar(0, counts[values=='home quarantine'], bottom=counts[values=='hospital notification'], color=current_palette[3], width=0.2)\n",
    "plt.bar(0, counts[values=='contact tracing and testing'], bottom=counts[values=='hospital notification']+counts[values=='home quarantine'], color=current_palette[1], width=0.2)\n",
    "plt.bar(0, counts[values=='airport screening'], bottom=counts[values=='hospital notification']+counts[values=='home quarantine']+counts[values=='contact tracing and testing'], color=current_palette[0], width=0.2)\n",
    "\n",
    "values, counts = np.unique(way_of_discover_asymptom, return_counts=True)\n",
    "plt.bar(1, counts[values=='hospital notification'], color=current_palette[4], label='Hospital notification', width=0.2)\n",
    "plt.bar(1, counts[values=='home quarantine'], bottom=counts[values=='hospital notification'], color=current_palette[3], label='Home quarantine', width=0.2)\n",
    "plt.bar(1, counts[values=='contact tracing and testing'], bottom=counts[values=='hospital notification']+counts[values=='home quarantine'], color=current_palette[1], label='Contact tracing and testing', width=0.2)\n",
    "plt.bar(1, counts[values=='airport screening'], bottom=counts[values=='hospital notification']+counts[values=='home quarantine']+counts[values=='contact tracing and testing'], color=current_palette[0], label='Airport screening', width=0.2)\n",
    "\n",
    "plt.xticks([0, 1], ['Symptom developed before arrival', 'Asymptomatic on arrival'])\n",
    "plt.ylabel('Number of cases')\n",
    "plt.legend(loc='best')\n",
    "plt.xlim([-0.5, 1.5])\n",
    "plt.ylim([0, 210])"
   ]
  },
  {
   "attachments": {},
   "cell_type": "markdown",
   "id": "1bd0f9f0",
   "metadata": {},
   "source": [
    "### 5.1.5 Combine the four plot above to a single big plot"
   ]
  },
  {
   "cell_type": "code",
   "execution_count": null,
   "id": "fa70ae7a",
   "metadata": {},
   "outputs": [],
   "source": [
    "country_list = data_liu_abroad['infection_source'].to_list()\n",
    "arrival_date_list = data_liu_abroad['date_of_arrival'].to_list()\n",
    "for i, time in enumerate(arrival_date_list):\n",
    "    if type(time) != str:\n",
    "        arrival_date_list[i] = time.strftime('%m/%d')"
   ]
  },
  {
   "cell_type": "code",
   "execution_count": null,
   "id": "9e03334b",
   "metadata": {},
   "outputs": [],
   "source": [
    "data_liu_abroad_male = data_liu_abroad[data_liu_abroad['gender']=='Male']\n",
    "data_liu_abroad_female = data_liu_abroad[data_liu_abroad['gender']=='Female']\n",
    "print(f'Percentage of male cases: {len(data_liu_abroad_male)/321*100:.2f}%')\n",
    "print(f'Percentage of female cases: {len(data_liu_abroad_female)/321*100:.2f}%')\n",
    "male_age_list = []\n",
    "female_age_list = []\n",
    "age_index = np.sort(data_liu_abroad_male['age'].unique())\n",
    "for i in age_index:\n",
    "    num_age = sum(data_liu_abroad_male['age']==i)\n",
    "    male_age_list.append(num_age)\n",
    "    num_age = sum(data_liu_abroad_female['age']==i)\n",
    "    female_age_list.append(num_age)"
   ]
  },
  {
   "cell_type": "code",
   "execution_count": null,
   "id": "b2b51fbb",
   "metadata": {},
   "outputs": [],
   "source": [
    "fontsize = 18\n",
    "fig, ((ax1, ax2), (ax3, ax4)) = plt.subplots(2, 2, figsize=(18, 19))\n",
    "ax1.bar(age_index, female_age_list, bottom=male_age_list, label='Female')\n",
    "ax1.bar(age_index, male_age_list, label='Male')\n",
    "ax1.set_xticks(range(len(age_index)))\n",
    "ax1.set_xticks([0, 2, 4, 6, 8])\n",
    "ax1.set_xticklabels(['<10', '20-29', '40-49', '60-69', '80-89'], fontsize=fontsize)\n",
    "ax1.legend(fontsize=fontsize)\n",
    "ax1.set_xlabel('Age (years)', fontsize=fontsize)\n",
    "ax1.set_ylabel('Number of cases', fontsize=fontsize)\n",
    "ax1.set_ylim([0, 130])\n",
    "ax1.set_xlim([-1, 9])\n",
    "ax1.text(-0.1, 1.1, 'A', transform=ax1.transAxes, fontsize=fontsize, fontweight='bold', va='top', ha='right')\n",
    "ax1.tick_params(axis='y', labelsize=fontsize)\n",
    "\n",
    "# Group data by date and continent\n",
    "\n",
    "grouped_data = pd.DataFrame({'date': arrival_date_list, 'continent': continent_list})\n",
    "grouped_data = grouped_data.groupby(['date', 'continent']).size().reset_index(name='count')\n",
    "\n",
    "# Pivot data to create stacked bar chart\n",
    "pivot_data = grouped_data.pivot(index='date', columns='continent', values='count')\n",
    "pivot_data = pivot_data.fillna(0)\n",
    "\n",
    "# Define order of stacked bars\n",
    "stack_order = ['South America', 'Oceania', 'North America', 'Middle East & Africa', 'Europe', 'China', 'East & South Asia', 'Unknown']\n",
    "\n",
    "# Plot stacked bar chart\n",
    "pivot_data[stack_order].plot(kind='bar', stacked=True, ax=ax2, color=[current_palette[4], '#a6bddb', current_palette[0], current_palette[3], current_palette[1], current_palette[2], current_palette[5], '#7f7f7f'])\n",
    "\n",
    "# Set x-axis label\n",
    "ax2.set_xlabel('Date of arrival', fontsize=fontsize)\n",
    "ax2.set_xticks(np.arange(0, len(arrival_date_list), 7))\n",
    "# ax2.set_xticklabels(arrival_date_list[::7], rotation=20, ha='right')\n",
    "ax2.set_xticklabels(arrival_date_list[::7], rotation=0, fontsize=fontsize)\n",
    "\n",
    "# Set y-axis label\n",
    "ax2.set_ylabel('Number of cases', fontsize=fontsize)\n",
    "ax2.text(-0.1, 1.1, 'B', transform=ax2.transAxes, fontsize=fontsize, fontweight='bold', va='top', ha='right')\n",
    "ax2.tick_params(axis='y', labelsize=fontsize)\n",
    "\n",
    "ax2.set_xlim([-0.5, 42.5])\n",
    "ax2.set_ylim([0, 33])\n",
    "\n",
    "# Remove word \"continent\" from legend\n",
    "handles, labels = ax2.get_legend_handles_labels()\n",
    "labels = [label.replace('continent', '') for label in labels]\n",
    "ax2.legend(handles, labels, loc='best', fontsize=fontsize)\n",
    "\n",
    "ax3.plot([1, 2, 3], [4, 5, 6])\n",
    "counts, bins = np.histogram(days_from_arrival_to_symptom, bins=np.arange(np.min(days_from_arrival_to_symptom), np.max(days_from_arrival_to_symptom)))\n",
    "ax3.bar(bins[:-1], counts, width=0.8, color=current_palette[0], edgecolor='grey')\n",
    "ax3.bar(bins[0:31], counts[0:31], width=0.8, color='lightblue', edgecolor='grey')\n",
    "ax3.set_xlabel('Days from arrival to symptom onset', fontsize=fontsize)\n",
    "ax3.set_ylabel('Number of cases', fontsize=fontsize)\n",
    "ax3.set_xlim([-31, 19])\n",
    "ax3.set_xticks(np.arange(-30, 18, 5))\n",
    "ax3.text(-0.1, 1.1, 'C', transform=ax3.transAxes, fontsize=fontsize, fontweight='bold', va='top', ha='right')\n",
    "ax3.tick_params(axis='both', labelsize=fontsize)\n",
    "\n",
    "\n",
    "values, counts = np.unique(way_of_discover_symptom, return_counts=True)\n",
    "ax4.bar(0, counts[values=='hospital notification'], color=current_palette[4], width=0.2)\n",
    "ax4.bar(0, counts[values=='home quarantine'], bottom=counts[values=='hospital notification'], color=current_palette[3], width=0.2)\n",
    "ax4.bar(0, counts[values=='contact tracing and testing'], bottom=counts[values=='hospital notification']+counts[values=='home quarantine'], color=current_palette[1], width=0.2)\n",
    "ax4.bar(0, counts[values=='airport screening'], bottom=counts[values=='hospital notification']+counts[values=='home quarantine']+counts[values=='contact tracing and testing'], color=current_palette[0], width=0.2)\n",
    "\n",
    "values, counts = np.unique(way_of_discover_asymptom, return_counts=True)\n",
    "ax4.bar(1, counts[values=='hospital notification'], color=current_palette[4], label='Hospital notification', width=0.2)\n",
    "ax4.bar(1, counts[values=='home quarantine'], bottom=counts[values=='hospital notification'], color=current_palette[3], label='Home quarantine', width=0.2)\n",
    "ax4.bar(1, counts[values=='contact tracing and testing'], bottom=counts[values=='hospital notification']+counts[values=='home quarantine'], color=current_palette[1], label='Contact tracing and testing', width=0.2)\n",
    "ax4.bar(1, counts[values=='airport screening'], bottom=counts[values=='hospital notification']+counts[values=='home quarantine']+counts[values=='contact tracing and testing'], color=current_palette[0], label='Airport screening', width=0.2)\n",
    "\n",
    "ax4.set_xticks([0, 1])\n",
    "ax4.set_xticklabels(['Symptom developed before arrival', 'Asymptomatic on arrival'], fontsize=fontsize)\n",
    "ax4.set_ylabel('Number of cases', fontsize=fontsize)\n",
    "ax4.legend(loc='best', fontsize=fontsize)\n",
    "ax4.set_xlim([-0.5, 1.5])\n",
    "ax4.set_ylim([0, 220])\n",
    "ax4.text(-0.1, 1.1, 'D', transform=ax4.transAxes, fontsize=fontsize, fontweight='bold', va='top', ha='right')\n",
    "ax4.tick_params(axis='both', labelsize=fontsize)\n",
    "\n",
    "# plt.savefig('Reproduce_liu2020_RW2023.pdf')"
   ]
  }
 ],
 "metadata": {
  "interpreter": {
   "hash": "981c73eafd070d074423928c764bc0ec6070d0d9756257c8a20d4d497db442af"
  },
  "kernelspec": {
   "display_name": "Python 3.9.2 64-bit",
   "language": "python",
   "name": "python3"
  },
  "language_info": {
   "codemirror_mode": {
    "name": "ipython",
    "version": 3
   },
   "file_extension": ".py",
   "mimetype": "text/x-python",
   "name": "python",
   "nbconvert_exporter": "python",
   "pygments_lexer": "ipython3",
   "version": "3.10.12"
  }
 },
 "nbformat": 4,
 "nbformat_minor": 5
}
